{
 "cells": [
  {
   "cell_type": "code",
   "execution_count": 1,
   "id": "08d85c77",
   "metadata": {},
   "outputs": [
    {
     "data": {
      "text/plain": [
       "<torch._C.Generator at 0x10ff6fbf0>"
      ]
     },
     "execution_count": 1,
     "metadata": {},
     "output_type": "execute_result"
    }
   ],
   "source": [
    "import pickle\n",
    "import numpy as np\n",
    "import os\n",
    "\n",
    "import torch\n",
    "import torchvision\n",
    "from torch import nn\n",
    "from torch.autograd import Variable\n",
    "from torch.utils.data import DataLoader\n",
    "from torchvision.utils import save_image\n",
    "\n",
    "random_seed = 1\n",
    "torch.backends.cudnn.enabled = False\n",
    "torch.manual_seed(random_seed)"
   ]
  },
  {
   "cell_type": "code",
   "execution_count": 14,
   "id": "92349ec0",
   "metadata": {},
   "outputs": [],
   "source": [
    "mkdir pytorch_model"
   ]
  },
  {
   "cell_type": "code",
   "execution_count": 2,
   "id": "6572d998",
   "metadata": {},
   "outputs": [],
   "source": [
    "with open('aaaa.dat', \"rb\") as f:\n",
    "    aaaa = pickle.load(f)"
   ]
  },
  {
   "cell_type": "code",
   "execution_count": 26,
   "id": "ca476de6",
   "metadata": {},
   "outputs": [],
   "source": [
    "num_epochs = 1\n",
    "batch_size = 256\n",
    "learning_rate = 1e-3"
   ]
  },
  {
   "cell_type": "code",
   "execution_count": 4,
   "id": "7095a074",
   "metadata": {},
   "outputs": [],
   "source": [
    "aaa289 = []"
   ]
  },
  {
   "cell_type": "code",
   "execution_count": 5,
   "id": "5ebe6a8d",
   "metadata": {
    "scrolled": true
   },
   "outputs": [],
   "source": [
    "class Autoencoder(nn.Module):\n",
    "    def __init__(self, NUMBER_OF_ATOMS):\n",
    "        super(Autoencoder, self).__init__()\n",
    "        self.encoder = nn.Sequential(\n",
    "            nn.Linear(NUMBER_OF_ATOMS*NUMBER_OF_ATOMS, 3600),\n",
    "            nn.ReLU(True),\n",
    "            nn.Linear(3600, 1600),\n",
    "            nn.ReLU(True), \n",
    "            nn.Linear(1600, 625), \n",
    "            nn.ReLU(True), \n",
    "            nn.Linear(625, 289))\n",
    "        \n",
    "        self.decoder = nn.Sequential(\n",
    "            nn.Linear(289, 625),\n",
    "            nn.ReLU(True),\n",
    "            nn.Linear(625, 1600),\n",
    "            nn.ReLU(True),\n",
    "            nn.Linear(1600, 3600),\n",
    "            nn.ReLU(True), \n",
    "            nn.Linear(3600, NUMBER_OF_ATOMS*NUMBER_OF_ATOMS),\n",
    "            nn.Tanh())\n",
    "\n",
    "\n",
    "    def forward(self, x):\n",
    "        x = self.encoder(x)\n",
    "        aaa289.append(x)\n",
    "        x = self.decoder(x)\n",
    "        return x\n",
    "    "
   ]
  },
  {
   "cell_type": "code",
   "execution_count": 25,
   "id": "1df45af9",
   "metadata": {},
   "outputs": [],
   "source": [
    "aaaa289 = []"
   ]
  },
  {
   "cell_type": "code",
   "execution_count": 28,
   "id": "ab05c7ab",
   "metadata": {
    "scrolled": true
   },
   "outputs": [
    {
     "name": "stdout",
     "output_type": "stream",
     "text": [
      "Molecule #1 :\n",
      "Epoch [1/1], loss:0.21954745054244995\n",
      "##################################################\n",
      "\n",
      "Molecule #2 :\n",
      "Epoch [1/1], loss:0.2196270078420639\n",
      "##################################################\n",
      "\n",
      "Molecule #3 :\n",
      "Epoch [1/1], loss:0.20670711994171143\n",
      "##################################################\n",
      "\n",
      "Molecule #4 :\n",
      "Epoch [1/1], loss:0.2536123991012573\n",
      "##################################################\n",
      "\n",
      "Molecule #5 :\n",
      "Epoch [1/1], loss:0.2311369925737381\n",
      "##################################################\n",
      "\n",
      "Molecule #6 :\n",
      "Epoch [1/1], loss:0.23160646855831146\n",
      "##################################################\n",
      "\n",
      "Molecule #7 :\n",
      "Epoch [1/1], loss:0.21443913877010345\n",
      "##################################################\n",
      "\n",
      "Molecule #8 :\n",
      "Epoch [1/1], loss:0.22064563632011414\n",
      "##################################################\n",
      "\n",
      "Molecule #9 :\n",
      "Epoch [1/1], loss:0.21305085718631744\n",
      "##################################################\n",
      "\n",
      "Molecule #10 :\n",
      "Epoch [1/1], loss:0.18548759818077087\n",
      "##################################################\n",
      "\n",
      "Molecule #11 :\n",
      "Epoch [1/1], loss:0.2197904735803604\n",
      "##################################################\n",
      "\n",
      "Molecule #12 :\n",
      "Epoch [1/1], loss:0.24230451881885529\n",
      "##################################################\n",
      "\n",
      "Molecule #13 :\n",
      "Epoch [1/1], loss:0.24848848581314087\n",
      "##################################################\n",
      "\n",
      "Molecule #14 :\n",
      "Epoch [1/1], loss:0.2653849422931671\n",
      "##################################################\n",
      "\n",
      "Molecule #15 :\n",
      "Epoch [1/1], loss:0.24703872203826904\n",
      "##################################################\n",
      "\n",
      "Molecule #16 :\n",
      "Epoch [1/1], loss:0.2603933811187744\n",
      "##################################################\n",
      "\n",
      "Molecule #17 :\n",
      "Epoch [1/1], loss:0.18557505309581757\n",
      "##################################################\n",
      "\n",
      "Molecule #18 :\n",
      "Epoch [1/1], loss:0.18525397777557373\n",
      "##################################################\n",
      "\n",
      "Molecule #19 :\n",
      "Epoch [1/1], loss:0.22041761875152588\n",
      "##################################################\n",
      "\n",
      "Molecule #20 :\n",
      "Epoch [1/1], loss:0.21938243508338928\n",
      "##################################################\n",
      "\n",
      "Molecule #21 :\n",
      "Epoch [1/1], loss:0.21316447854042053\n",
      "##################################################\n",
      "\n",
      "Molecule #22 :\n",
      "Epoch [1/1], loss:0.21308954060077667\n",
      "##################################################\n",
      "\n",
      "Molecule #23 :\n",
      "Epoch [1/1], loss:0.21297205984592438\n",
      "##################################################\n",
      "\n",
      "Molecule #24 :\n",
      "Epoch [1/1], loss:0.21292774379253387\n",
      "##################################################\n",
      "\n",
      "Molecule #25 :\n",
      "Epoch [1/1], loss:0.2206355631351471\n",
      "##################################################\n",
      "\n",
      "Molecule #26 :\n",
      "Epoch [1/1], loss:0.1855049431324005\n",
      "##################################################\n",
      "\n",
      "Molecule #27 :\n",
      "Epoch [1/1], loss:0.1854865550994873\n",
      "##################################################\n",
      "\n",
      "Molecule #28 :\n",
      "Epoch [1/1], loss:0.21293744444847107\n",
      "##################################################\n",
      "\n",
      "Molecule #29 :\n",
      "Epoch [1/1], loss:0.23558083176612854\n",
      "##################################################\n",
      "\n"
     ]
    }
   ],
   "source": [
    "for i in range(29):\n",
    "    print(f\"Molecule #{i+1} :\")\n",
    "    X = np.array([aaaa[i][j] for j in range(len(aaaa[0]))])\n",
    "    MAX = X.max()\n",
    "    x_train = X.astype('float32') / MAX\n",
    "    x_train = x_train.reshape((len(x_train), np.prod(x_train.shape[1:])))\n",
    "    x_train = torch.from_numpy(x_train)\n",
    "\n",
    "    dataset = x_train\n",
    "    dataloader = DataLoader(dataset, batch_size=batch_size, shuffle=True)\n",
    "\n",
    "    model = Autoencoder(len(aaaa[i][0]))#.cuda()\n",
    "    criterion = nn.MSELoss()\n",
    "    optimizer = torch.optim.Adam(\n",
    "                        model.parameters(), \n",
    "                        lr=learning_rate, \n",
    "                        weight_decay=1e-5)\n",
    "\n",
    "    for epoch in range(num_epochs):\n",
    "        for data in x_train:\n",
    "            img = data\n",
    "            output = model(img)\n",
    "            loss = criterion(output, img)\n",
    "\n",
    "            optimizer.zero_grad()\n",
    "            loss.backward()\n",
    "            optimizer.step()\n",
    "\n",
    "        print(f\"Epoch [{epoch + 1}/{num_epochs}], loss:{loss}\")\n",
    "    print('#'*50,end='\\n\\n')\n",
    "#     torch.save(model.state_dict(), f'./pytorch_model/sim_autoencoder{i}.pth')\n",
    "    aaaa289.append(aaa289[-1])"
   ]
  },
  {
   "cell_type": "code",
   "execution_count": null,
   "id": "d193d710",
   "metadata": {},
   "outputs": [],
   "source": [
    "with open('aaaa289.dat', \"wb\") as f:\n",
    "    pickle.dump(aaaa289, f)"
   ]
  }
 ],
 "metadata": {
  "kernelspec": {
   "display_name": "Python 3",
   "language": "python",
   "name": "python3"
  },
  "language_info": {
   "codemirror_mode": {
    "name": "ipython",
    "version": 3
   },
   "file_extension": ".py",
   "mimetype": "text/x-python",
   "name": "python",
   "nbconvert_exporter": "python",
   "pygments_lexer": "ipython3",
   "version": "3.9.4"
  }
 },
 "nbformat": 4,
 "nbformat_minor": 5
}
