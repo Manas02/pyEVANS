{
 "cells": [
  {
   "cell_type": "code",
   "execution_count": 15,
   "id": "48577df4",
   "metadata": {},
   "outputs": [],
   "source": [
    "# Author : Manas Mahale <manas.mahale@bcp.edu.in>\n",
    "\n",
    "import os\n",
    "import re\n",
    "\n",
    "import numpy as np\n",
    "import pandas as pd\n",
    "import matplotlib.pyplot as plt\n",
    "import seaborn as sns\n",
    "sns.set_theme()\n",
    "import pickle\n",
    "%matplotlib inline"
   ]
  },
  {
   "cell_type": "code",
   "execution_count": 16,
   "id": "7bd13ba2",
   "metadata": {},
   "outputs": [],
   "source": [
    "data = pd.read_csv(\"../Data/external/Dataset_1.tsv\", sep='\\t')\n",
    "data = data.filter(['Ligand SMILES', 'IC50 (nM)'])\n",
    "lig, ic50 = data['Ligand SMILES'], data['IC50 (nM)']"
   ]
  },
  {
   "cell_type": "code",
   "execution_count": 17,
   "id": "e12c7630",
   "metadata": {},
   "outputs": [],
   "source": [
    "desc = pd.read_csv(\"../Data/processed/descriptors.csv\").T[1:].T\n",
    "col = desc.columns.to_list()"
   ]
  },
  {
   "cell_type": "code",
   "execution_count": 18,
   "id": "8c99c557",
   "metadata": {},
   "outputs": [],
   "source": [
    "names = os.listdir(\"../Data/processed/\")\n",
    "names.remove(\"descriptors.csv\")\n",
    "names.remove(\".DS_Store\")\n",
    "names.sort(key = lambda var:[int(x) if x.isdigit() else x for x in re.findall(r'[^0-9]|[0-9]+', var)])"
   ]
  },
  {
   "cell_type": "code",
   "execution_count": 66,
   "id": "776fcc35",
   "metadata": {
    "scrolled": true
   },
   "outputs": [
    {
     "data": {
      "text/plain": [
       "(29, 1085)"
      ]
     },
     "execution_count": 66,
     "metadata": {},
     "output_type": "execute_result"
    }
   ],
   "source": [
    "aaaa = []\n",
    "\n",
    "for n, i in enumerate(names):\n",
    "    with open(f\"../Data/processed/{i}\") as f:\n",
    "        data = [i.split() for i in f.readlines()[10:]]\n",
    "\n",
    "    a = pd.DataFrame(data)\n",
    "    a.columns = [\"ID\", \"ATOM\", \"X\", \"Y\", \"Z\", \"tmp\"]\n",
    "    atom = a[\"ID\"].to_numpy()\n",
    "    a = a.drop(['ATOM','ID','tmp'], axis = 1)\n",
    "    a = a.to_numpy('float64')\n",
    "\n",
    "    aa = []\n",
    "    for j in a:\n",
    "        Dist = []\n",
    "        for k in a:\n",
    "            Dist.append(np.linalg.norm(j - k))\n",
    "        aa.append(Dist)\n",
    "    aa = np.array(aa)\n",
    "    \n",
    "    aaa = []\n",
    "    for l in col:\n",
    "        np.fill_diagonal(aa, desc[l][n])\n",
    "        aaa.append(np.linalg.det(aa / aa.max()))\n",
    "    aaaa.append(np.array(aaa))\n",
    "aaaa = np.array(aaaa)\n",
    "aaaa.shape"
   ]
  },
  {
   "cell_type": "code",
   "execution_count": 68,
   "id": "155553ed",
   "metadata": {},
   "outputs": [],
   "source": [
    "with open('determinant.dat', \"wb\") as f:\n",
    "    pickle.dump(aaaa, f)"
   ]
  }
 ],
 "metadata": {
  "kernelspec": {
   "display_name": "Python 3",
   "language": "python",
   "name": "python3"
  },
  "language_info": {
   "codemirror_mode": {
    "name": "ipython",
    "version": 3
   },
   "file_extension": ".py",
   "mimetype": "text/x-python",
   "name": "python",
   "nbconvert_exporter": "python",
   "pygments_lexer": "ipython3",
   "version": "3.9.4"
  }
 },
 "nbformat": 4,
 "nbformat_minor": 5
}
