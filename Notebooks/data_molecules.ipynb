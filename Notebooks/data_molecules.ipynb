{
 "cells": [
  {
   "cell_type": "markdown",
   "id": "691a4ec5",
   "metadata": {},
   "source": [
    "# TODO : CHECK THE CONNECTION BETWEEN THIS AND MOL DESCRIPTORS"
   ]
  },
  {
   "cell_type": "markdown",
   "id": "d50822ab",
   "metadata": {},
   "source": [
    "                                         ███████ ██    ██  █████  ███    ██ ███████\n",
    "                                         ██      ██    ██ ██   ██ ████   ██ ██\n",
    "                        ██████  ██    ██ █████   ██    ██ ███████ ██ ██  ██ ███████\n",
    "                        ██   ██  ██  ██  ██       ██  ██  ██   ██ ██  ██ ██      ██\n",
    "                        ██████    ████   ███████   ████   ██   ██ ██   ████ ███████ \n",
    "                        ██         ██    \n",
    "                        ██        ██     "
   ]
  },
  {
   "cell_type": "code",
   "execution_count": 1,
   "id": "b452ed72",
   "metadata": {},
   "outputs": [],
   "source": [
    "#! /usr/bin/env python\n",
    "# Author : Manas Mahale <manas.mahale@bcp.edu.in>\n",
    "\n",
    "\n",
    "import pandas as pd\n",
    "from rdkit import Chem\n",
    "from rdkit.Chem import AllChem\n",
    "from rdkit.Chem.rdmolfiles import MolToPDBFile\n",
    "import argparse\n",
    "import os"
   ]
  },
  {
   "cell_type": "code",
   "execution_count": 29,
   "id": "556492b1",
   "metadata": {
    "scrolled": true
   },
   "outputs": [
    {
     "data": {
      "text/plain": [
       "0"
      ]
     },
     "execution_count": 29,
     "metadata": {},
     "output_type": "execute_result"
    }
   ],
   "source": [
    "filename = '../Data/external/Dataset_1.tsv'\n",
    "data = pd.read_csv(filename, sep='\\t').filter(['Ligand SMILES', 'IC50 (nM)'])\n",
    "lig, ic50 = data['Ligand SMILES'].to_list(), data['IC50 (nM)'].to_list()\n",
    "mols = [Chem.AddHs(Chem.MolFromSmiles(i)) for i in lig]\n",
    "m = [Chem.MolFromSmiles(i) for i in lig]\n",
    "m2 = [Chem.AddHs(i) for i in m]\n",
    "[AllChem.EmbedMolecule(i, randomSeed=0xf00d) for i in m2]\n",
    "[AllChem.MMFFOptimizeMolecule(i) for i in m2]\n",
    "with Chem.SDWriter('main.sdf') as f:\n",
    "    for m in m2:\n",
    "        f.write(m)\n",
    "os.system(\"Obabel -isdf main.sdf -ocif -m -O ../Data/interim/main.cif\")\n",
    "os.remove(\"main.sdf\")"
   ]
  },
  {
   "cell_type": "code",
   "execution_count": 7,
   "id": "cab94b93",
   "metadata": {},
   "outputs": [],
   "source": [
    "for n in range(1,len(lig)):    \n",
    "    os.system(f'obabel ../Data/interim/main{n}.cif -O ../Data/processed/min_main{n}.cif --minimize --steps 5000 --sd --ff Gaff --crit 1e-8')"
   ]
  }
 ],
 "metadata": {
  "kernelspec": {
   "display_name": "Python 3",
   "language": "python",
   "name": "python3"
  },
  "language_info": {
   "codemirror_mode": {
    "name": "ipython",
    "version": 3
   },
   "file_extension": ".py",
   "mimetype": "text/x-python",
   "name": "python",
   "nbconvert_exporter": "python",
   "pygments_lexer": "ipython3",
   "version": "3.9.4"
  }
 },
 "nbformat": 4,
 "nbformat_minor": 5
}
