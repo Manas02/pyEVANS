{
 "cells": [
  {
   "cell_type": "markdown",
   "id": "e3bca065",
   "metadata": {},
   "source": [
    "- [x] **Makes  `names` into  `molecules`**\n",
    "- [x] **Makes  `molecules` into `atomic matrices`**"
   ]
  },
  {
   "cell_type": "code",
   "execution_count": 1,
   "id": "8b680494",
   "metadata": {},
   "outputs": [],
   "source": [
    "# Author : Manas Mahale <manas.mahale@bcp.edu.in>\n",
    "\n",
    "import os\n",
    "import re\n",
    "import numpy as np\n",
    "import pandas as pd\n",
    "import matplotlib.pyplot as plt\n",
    "import seaborn as sns\n",
    "sns.set_theme()\n",
    "\n",
    "%matplotlib inline"
   ]
  },
  {
   "cell_type": "code",
   "execution_count": 2,
   "id": "68f0d0f8",
   "metadata": {},
   "outputs": [],
   "source": [
    "data = pd.read_csv(\"../Data/external/Dataset_1.tsv\", sep='\\t')\n",
    "data = data.filter(['Ligand SMILES', 'IC50 (nM)'])\n",
    "lig, ic50 = data['Ligand SMILES'], data['IC50 (nM)']"
   ]
  },
  {
   "cell_type": "code",
   "execution_count": 3,
   "id": "7488ddeb",
   "metadata": {},
   "outputs": [],
   "source": [
    "desc = pd.read_csv(\"../Data/processed/descriptors.csv\").T[1:].T\n",
    "col = desc.columns.to_list()"
   ]
  },
  {
   "cell_type": "code",
   "execution_count": 4,
   "id": "6978f073",
   "metadata": {},
   "outputs": [],
   "source": [
    "names = os.listdir(\"../Data/processed/\")\n",
    "names.remove(\"descriptors.csv\")\n",
    "names.remove(\".DS_Store\")\n",
    "names.sort(key=lambda var:[int(x) if x.isdigit() else x for x in re.findall(r'[^0-9]|[0-9]+', var)])"
   ]
  },
  {
   "cell_type": "markdown",
   "id": "d249a74e",
   "metadata": {},
   "source": [
    "### `a` is the numpy array [`(m, 3)`] holding `m`  `X, Y, Z` \n"
   ]
  },
  {
   "cell_type": "markdown",
   "id": "e46f6f7d",
   "metadata": {},
   "source": [
    "### `aa` is the numpy array [`(m, m)`] holding `m x m` atomic dostance matrix`"
   ]
  },
  {
   "cell_type": "markdown",
   "id": "78614cb8",
   "metadata": {},
   "source": [
    "### `aaa` is the numpy array [`(number_of_molecules,)`] holding  `m x m atomic distance matrix` WITHOUT  `DIAGONAL MATRIX`"
   ]
  },
  {
   "cell_type": "markdown",
   "id": "990c730f",
   "metadata": {},
   "source": [
    "### `aaaa` is the numpy array `(number_of_molecules,molecular_descriptors)` holding  `m x m atomic` `distance matrix` WITH  `DIAGONAL MATRIX`"
   ]
  },
  {
   "cell_type": "code",
   "execution_count": 5,
   "id": "9065cd5e",
   "metadata": {
    "scrolled": true
   },
   "outputs": [
    {
     "data": {
      "text/plain": [
       "29"
      ]
     },
     "execution_count": 5,
     "metadata": {},
     "output_type": "execute_result"
    }
   ],
   "source": [
    "aaaa = []\n",
    "\n",
    "for n, i in enumerate(names):\n",
    "    with open(f\"../Data/processed/{i}\") as f:\n",
    "        data = [i.split() for i in f.readlines()[10:]]\n",
    "\n",
    "    a = pd.DataFrame(data)\n",
    "    a.columns = [\"ID\", \"ATOM\", \"X\", \"Y\", \"Z\", \"tmp\"]\n",
    "    atom = a[\"ID\"].to_numpy()\n",
    "    a = a.drop(['ATOM','ID','tmp'], axis = 1)\n",
    "    a = a.to_numpy('float64')\n",
    "\n",
    "    aa = []\n",
    "    for j in a:\n",
    "        Dist = []\n",
    "        for k in a:\n",
    "            Dist.append(np.linalg.norm(j - k))\n",
    "        aa.append(Dist)\n",
    "    aa = np.array(aa)\n",
    "    \n",
    "    aaa = []\n",
    "    for l in col:\n",
    "        np.fill_diagonal(aa, desc[l][n])\n",
    "        aaa.append(aa)\n",
    "    aaaa.append(np.array(aaa))\n",
    "len(aaaa)"
   ]
  },
  {
   "cell_type": "markdown",
   "id": "c5486a5b",
   "metadata": {},
   "source": [
    "# Uncomment the next cell for Heatmaps"
   ]
  },
  {
   "cell_type": "code",
   "execution_count": 6,
   "id": "18243f91",
   "metadata": {
    "scrolled": false
   },
   "outputs": [],
   "source": [
    "# for i in range(29):    \n",
    "#     plt.figure(dpi=1000)\n",
    "#     b = sns.heatmap(aaaa[i][0], cmap = 'tab20c',vmin = 0, vmax = 30)\n",
    "#     b.axes.set_title(f\"{i+1}'th molecule's Distance matrix populated with interatomic distances in the off-diagonal elements &\\nwith {col[i]} in the diagonal\",fontsize=7)\n",
    "#     b.set_xlabel(\"Atomic Distances\",fontsize=5)\n",
    "#     b.set_ylabel(\"Atomic Distances\",fontsize=5)\n",
    "#     b.tick_params(labelsize=5)"
   ]
  }
 ],
 "metadata": {
  "kernelspec": {
   "display_name": "Python 3",
   "language": "python",
   "name": "python3"
  },
  "language_info": {
   "codemirror_mode": {
    "name": "ipython",
    "version": 3
   },
   "file_extension": ".py",
   "mimetype": "text/x-python",
   "name": "python",
   "nbconvert_exporter": "python",
   "pygments_lexer": "ipython3",
   "version": "3.9.4"
  }
 },
 "nbformat": 4,
 "nbformat_minor": 5
}
