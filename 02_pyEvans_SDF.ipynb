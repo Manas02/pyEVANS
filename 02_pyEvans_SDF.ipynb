{
 "cells": [
  {
   "cell_type": "code",
   "execution_count": 1,
   "id": "264c532c",
   "metadata": {},
   "outputs": [],
   "source": [
    "import pandas as pd\n",
    "from rdkit import Chem\n",
    "from rdkit.Chem import AllChem\n",
    "from rdkit.Chem import Draw\n",
    "from rdkit.Chem.Draw import IPythonConsole\n",
    "from IPython.display import SVG\n",
    "IPythonConsole.drawOptions.addAtomIndices = True\n",
    "IPythonConsole.molSize = 500,500"
   ]
  },
  {
   "cell_type": "code",
   "execution_count": 2,
   "id": "a92c5197",
   "metadata": {},
   "outputs": [],
   "source": [
    "data = pd.read_csv(\"Dataset_1.tsv\", sep='\\t')\n",
    "data = data.filter(['Ligand SMILES', 'IC50 (nM)'])"
   ]
  },
  {
   "cell_type": "code",
   "execution_count": 3,
   "id": "9a8846c2",
   "metadata": {},
   "outputs": [],
   "source": [
    "lig, ic50 = data['Ligand SMILES'].to_list(), data['IC50 (nM)'].to_list()"
   ]
  },
  {
   "cell_type": "code",
   "execution_count": 4,
   "id": "587976f7",
   "metadata": {},
   "outputs": [],
   "source": [
    "mols = [Chem.MolFromSmiles(i) for i in lig]"
   ]
  },
  {
   "cell_type": "code",
   "execution_count": 5,
   "id": "861c7730",
   "metadata": {},
   "outputs": [],
   "source": [
    "with Chem.SDWriter('foo.sdf') as w:\n",
    "    for m in mols:\n",
    "        w.write(m)"
   ]
  }
 ],
 "metadata": {
  "kernelspec": {
   "display_name": "Python 3",
   "language": "python",
   "name": "python3"
  },
  "language_info": {
   "codemirror_mode": {
    "name": "ipython",
    "version": 3
   },
   "file_extension": ".py",
   "mimetype": "text/x-python",
   "name": "python",
   "nbconvert_exporter": "python",
   "pygments_lexer": "ipython3",
   "version": "3.9.4"
  }
 },
 "nbformat": 4,
 "nbformat_minor": 5
}
